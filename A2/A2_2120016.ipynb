{
 "cells": [
  {
   "cell_type": "markdown",
   "metadata": {
    "id": "KXXvbPLXFNci"
   },
   "source": [
    "<a href=\"https://colab.research.google.com/github/mirsazzathossain/CSE317-Lab/blob/main/Lab_Assignment_02.ipynb\" target=\"_parent\"><img src=\"https://colab.research.google.com/assets/colab-badge.svg\" alt=\"Open In Colab\"/></a>"
   ]
  },
  {
   "cell_type": "markdown",
   "metadata": {
    "id": "pSqdkaXiFNcl"
   },
   "source": [
    "#### **Find the following integral using the simpson's 1/3 rule**\n",
    "\n",
    "Simpson's 1/3 rule uses higher-order polynomials to approximate the integral of a function $f(x)$ over the interval $[a,b]$. For Example, if there is an extra point midway between $f(a)$ and $f(b)$, the three points can be connected with a parabola. The area under the parabola is an approximation of the integral of $f(x)$ over the interval $[a,b]$.\n",
    "\n",
    "<center>\n",
    "    <img src=\"./images/simpson.PNG\" width=\"400\" />\n",
    "</center>\n",
    "\n",
    "If we are given values of $f(x)$ at 3 points as $(x_0, f(x_0))$, $(x_1, f(x_1))$, and $(x_2, f(x_2))$ then we can estimate $f(x)$ using the Lagrange polynomial of degree 2:\n",
    "\n",
    "$$\n",
    "\\begin{align*}\n",
    "f(x) &\\approx f(x_0) \\frac{(x-x_1)(x-x_2)}{(x_0-x_1)(x_0-x_2)} + f(x_1) \\frac{(x-x_0)(x-x_2)}{(x_1-x_0)(x_1-x_2)} + f(x_2) \\frac{(x-x_0)(x-x_1)}{(x_2-x_0)(x_2-x_1)}\n",
    "\\end{align*}\n",
    "$$\n",
    "\n",
    "Now, as the area under the estimated curve is an approximation of the integral of $f(x)$ over the interval $[a,b]$, we can write the integral as:\n",
    "\n",
    "$$\n",
    "\\begin{align*}\n",
    "I &= \\int_{a}^{b} f(x) dx \\\\\n",
    "&\\approx \\int_{a}^{b} \\left[f(x_0)\\frac{(x-x_1)(x-x_2)}{(x_0-x_1)(x_0-x_2)} + f(x_1) \\frac{(x-x_0)(x-x_2)}{(x_1-x_0)(x_1-x_2)} + f(x_2) \\frac{(x-x_0)(x-x_1)}{(x_2-x_0)(x_2-x_1)} \\right] dx\n",
    "\\end{align*}\n",
    "$$\n",
    "\n",
    "When $a = x_0$, $b = x_2$, $x_1 = \\frac{a+b}{2}$, and $h = \\frac{b-a}{2}$, we can simplify the integral to:\n",
    "\n",
    "$$\n",
    "\\begin{align*}\n",
    "    I &\\approx \\frac{h}{3} \\left[ f(x_0) + 4f(x_1) + f(x_2) \\right] \\\\\n",
    "    &= (b-a) \\frac{f(x_0) + 4f(x_1) + f(x_2)}{6}\n",
    "\\end{align*}\n",
    "$$\n",
    "\n",
    "We will use Simpson's 1/3 rule to approximate the integral of $f(x) = 0.5 + 20x - 300x^2 + 650x^3 - 900x^4 + 500x^5$ over the interval $[0, 0.7]$. Follow the steps below to approximate the integral using Simpson's 1/3 rule."
   ]
  },
  {
   "cell_type": "markdown",
   "metadata": {
    "id": "jTBYDdWkFNcm"
   },
   "source": [
    "##### **Step 1: Define the function**\n",
    "\n",
    "Define a function `f` that takes a single parameter `x` and returns the value of $f(x) = 0.5 + 20x - 300x^2 + 650x^3 - 900x^4 + 500x^5$ at `x`. Note that the function should be able to handle both scalar and vector inputs.\n"
   ]
  },
  {
   "cell_type": "code",
   "execution_count": 57,
   "metadata": {
    "id": "tORhcsZrFNcn",
    "ExecuteTime": {
     "end_time": "2023-11-22T17:26:04.752915600Z",
     "start_time": "2023-11-22T17:26:04.673922600Z"
    }
   },
   "outputs": [
    {
     "name": "stdout",
     "output_type": "stream",
     "text": [
      "f(0.7) =  -41.60500000000002\n"
     ]
    }
   ],
   "source": [
    "import numpy as np\n",
    "\n",
    "def f(x):\n",
    "    x = np.array(x)\n",
    "    return 0.5 + 20*x - 300*(x**2) + 650*(x**3) - 900*(x**4) + 500*(x**5)\n",
    "\n",
    "print(\"f(0.7) = \", f(0.7))\n",
    "\n"
   ]
  },
  {
   "cell_type": "markdown",
   "metadata": {
    "id": "Mv6TMnvaFNcp"
   },
   "source": [
    "##### **Step 2: Define a function to approximate the function $f(x)$ using Lagrange polynomial**\n",
    "\n",
    "Define a function `lagrange` that takes four parameters `x0`, `x1`, `x2` and `x` and returns the value of the Lagrange polynomial of degree 2 at `x`. The function should be able to handle both scalar and vector inputs. Use the function `f` defined in Step 1 to evaluate the function at the given points."
   ]
  },
  {
   "cell_type": "code",
   "execution_count": 70,
   "metadata": {
    "id": "gi9GFJPnFNcp",
    "ExecuteTime": {
     "end_time": "2023-11-22T17:43:05.776857700Z",
     "start_time": "2023-11-22T17:43:05.748864200Z"
    }
   },
   "outputs": [
    {
     "name": "stdout",
     "output_type": "stream",
     "text": [
      "Lagrange 2nd degree polynomial for scalar input: 1956.0299599999994\n",
      "Lagrange 2nd degree polynomial for vector input: [  61042.6     -2009.075 1828920.25 ]\n"
     ]
    }
   ],
   "source": [
    "import numpy as np\n",
    "\n",
    "def lagrange(x0,x1,x2,x):\n",
    "    # defining values to take required inputs\n",
    "    x0 = np.array(x0)\n",
    "    x1 = np.array(x1)\n",
    "    x2 = np.array(x2)\n",
    "    x = np.array(x)\n",
    "    \n",
    "    # dividing each lagrange polynomial section and adding them\n",
    "    l0 = f(x0)*(((x - x1) * (x - x2)) / ((x0 - x1) * (x0 - x2)))\n",
    "    l1 = f(x1)*(((x - x0) * (x - x2)) / ((x1 - x0) * (x1 - x2)))\n",
    "    l2 = f(x2)*(((x - x0) * (x - x1)) / ((x2 - x0) * (x2 - x1)))\n",
    "    \n",
    "    return l0 + l1 + l2\n",
    "\n",
    "\n",
    "# check lagrange using scalar and vector values\n",
    "xScalar = 0.3\n",
    "scalarInp = lagrange(0.1, 0.08, 5, xScalar)\n",
    "print(\"Lagrange 2nd degree polynomial for scalar input:\", scalarInp)\n",
    "\n",
    "xVal = [2, 0.5, 9]\n",
    "vectorInp = lagrange(0.1, 4, 0.7, xVal)\n",
    "print(\"Lagrange 2nd degree polynomial for vector input:\", vectorInp)\n"
   ]
  },
  {
   "cell_type": "markdown",
   "metadata": {
    "id": "LTMcBZDoFNcq"
   },
   "source": [
    "##### **Step 3: Define the interval**\n",
    "Define the interval as a numpy array of two elements, where the first element is the lower bound and the second element is the upper bound. Name the array `interval`."
   ]
  },
  {
   "cell_type": "code",
   "execution_count": 71,
   "metadata": {
    "id": "9mFH-bRvFNcq",
    "ExecuteTime": {
     "end_time": "2023-11-22T17:45:17.651436300Z",
     "start_time": "2023-11-22T17:45:17.625444200Z"
    }
   },
   "outputs": [
    {
     "name": "stdout",
     "output_type": "stream",
     "text": [
      "Interval:  [0.  0.7]\n"
     ]
    }
   ],
   "source": [
    "import numpy as np\n",
    "\n",
    "a = 0\n",
    "b = 0.7\n",
    "\n",
    "interval = np.array([a, b])\n",
    "\n",
    "print(\"Interval: \", interval)\n"
   ]
  },
  {
   "cell_type": "markdown",
   "metadata": {
    "id": "MKW21miaFNcq"
   },
   "source": [
    "##### **Step 4: Plot the function and the approximated polynomial**\n",
    "\n",
    "Plot the function $f(x)$ and the approximated polynomial using the function `lagrange` defined in Step 2. Use the interval defined in Step 3 as the x-axis. Also, plot the points $(x_0, f(x_0))$, $(x_1, f(x_1))$, and $(x_2, f(x_2))$ on the same plot. Fill the area under the approximated polynomial using numpy's `fill_between` function."
   ]
  },
  {
   "cell_type": "code",
   "execution_count": 64,
   "metadata": {
    "id": "a5WomE3OFNcr",
    "ExecuteTime": {
     "end_time": "2023-11-22T17:29:44.689973800Z",
     "start_time": "2023-11-22T17:29:44.106981Z"
    }
   },
   "outputs": [
    {
     "data": {
      "text/plain": "<Figure size 640x480 with 1 Axes>",
      "image/png": "[encoded data removed]"
     },
     "metadata": {},
     "output_type": "display_data"
    }
   ],
   "source": [
    "import numpy as np\n",
    "import matplotlib.pyplot as plt\n",
    "\n",
    "# setting x and y values for f(x) and lagrange\n",
    "x = np.arange(start= interval[0], stop= interval[1],step= 0.001)\n",
    "yf = f(x)\n",
    "yl = lagrange(interval[0], np.mean(interval), interval[1], x)\n",
    "sub_intervals = np.linspace(interval[0], interval[1], 3)            # equally divide intervals\n",
    "\n",
    "\n",
    "# plot graph using sub-intervals\n",
    "\n",
    "plt.title(\"Graph of f(x) and Lagrange polynomial for f(x)\")\n",
    "plt.xlabel(\"y\")\n",
    "plt.ylabel(\"y\")\n",
    "plt.plot(x, yf)\n",
    "plt.plot(x, yl)\n",
    "plt.plot(sub_intervals, f(sub_intervals), \"ro\")\n",
    "plt.plot(sub_intervals, f(sub_intervals), \"k-\")\n",
    "plt.fill_between(sub_intervals, f(sub_intervals), color=\"k\", alpha=0.2)\n",
    "plt.axhline(y=0, color=\"k\")\n",
    "plt.axvline(x=0, color=\"k\")\n",
    "plt.legend(['f(x)', 'Lagrange polynomial of f(x)', 'Sub-Interval points', 'Sub-Interval of f(x)'])\n",
    "plt.show()\n",
    "\n",
    "\n",
    "\n",
    "\n",
    "\n",
    "\n"
   ]
  },
  {
   "cell_type": "markdown",
   "metadata": {
    "id": "jEOvc1HXFNcs"
   },
   "source": [
    "##### **Step 5: Define a function to approximate the integral using Simpson's 1/3 rule**\n",
    "\n",
    "Define a function `simpson` that takes a parameter `interval` and returns the approximate value of the integral of $f(x)$ over the interval `interval` using Simpson's 1/3 rule. You have to employ the following steps:\n",
    "\n",
    "*   Calculate the midpoint of the interval. Store the value in a variable named `midpoint`.\n",
    "*   Calculate the value of $f(x_0)$, $f(x_1)$, and $f(x_2)$, where $x_0 = a$, $x_1 = \\frac{a+b}{2} = midpoint$, and $x_2 = b$. Store the values in variables named `f0`, `f1`, and `f2` respectively.\n",
    "*   Calculate the approximate value of the integral using Simpson's 1/3 rule. Store the value in a variable named `I`.\n",
    "*   Return the value of `I`."
   ]
  },
  {
   "cell_type": "code",
   "execution_count": 74,
   "metadata": {
    "id": "nMIaLPAAFNcs",
    "ExecuteTime": {
     "end_time": "2023-11-22T17:48:29.278670300Z",
     "start_time": "2023-11-22T17:48:29.250722600Z"
    }
   },
   "outputs": [
    {
     "name": "stdout",
     "output_type": "stream",
     "text": [
      "Simpson's 1/3 rule over the interval  [0.  0.7]  is:  -10.517281250000002\n"
     ]
    }
   ],
   "source": [
    "import numpy as np\n",
    "\n",
    "def simpson(intrv):\n",
    "     midpoint = (intrv[0] + intrv[1]) / 2\n",
    "     x0 = intrv[0]\n",
    "     x2 = intrv[1]\n",
    "     \n",
    "     f0 = f(x0)\n",
    "     f1 = f(midpoint)\n",
    "     f2 = f(x2)     \n",
    "     I = (x2-x0)*((f0 + 4*f1 + f2)/6)\n",
    "     \n",
    "     return I\n",
    "     \n",
    "\n",
    "print(\"Simpson's 1/3 rule over the interval \",interval, \" is: \" ,simpson(interval))\n",
    "     \n",
    "\n"
   ]
  },
  {
   "cell_type": "markdown",
   "metadata": {
    "id": "SEJdKt0JFNct"
   },
   "source": [
    "##### **Step 6: Approximate the integral using Simpson's 1/3 rule**\n",
    "\n",
    "Call the function `simpson` with the interval `interval` as the parameter. Store the value returned by the function in a variable named `I`. Print the value of `I`. Then you should compute the integral analytically and find the absolute relative error between the two values. Print the absolute relative error."
   ]
  },
  {
   "cell_type": "code",
   "execution_count": 75,
   "metadata": {
    "id": "BFJeA5xjFNct",
    "ExecuteTime": {
     "end_time": "2023-11-22T17:51:15.420685700Z",
     "start_time": "2023-11-22T17:51:15.386623Z"
    }
   },
   "outputs": [
    {
     "name": "stdout",
     "output_type": "stream",
     "text": [
      "Interval:  [0.  0.7]\n",
      "Analytical value (actual) :  -10.482266666666659 \n",
      "Simpsons 1/3 value (numerical):  -10.517281250000002\n",
      "Absolute Relative Error:  0.33 %\n"
     ]
    }
   ],
   "source": [
    "import numpy as np\n",
    "\n",
    "def f_integral(intrv):\n",
    "    #integral = 0.5*x + 10*(x**2) - 100*(x**3) + 162.5*(x**4) - 180*(x**5) + (500/6)*(x**6)\n",
    "    a = intrv[0]\n",
    "    b = intrv[1]\n",
    "    upperVal = 0.5*b + 10*(b**2) - 100*(b**3) + 162.5*(b**4) - 180*(b**5) + (500/6)*(b**6)\n",
    "    lowerVal = 0.5*a + 10*(a**2) - 100*(a**3) + 162.5*(a**4) - 180*(a**5) + (500/6)*(a**6)\n",
    "    integral = upperVal - lowerVal\n",
    "    \n",
    "    return integral\n",
    "    \n",
    "\n",
    "I = simpson(interval)\n",
    "actualValue = f_integral(interval)\n",
    "\n",
    "print(\"Interval: \" ,interval)\n",
    "print(\"Analytical value (actual) : \", actualValue, \"\\nSimpsons 1/3 value (numerical): \", I)\n",
    "\n",
    "# absolute relative error\n",
    "\n",
    "Ea = np.absolute((I - actualValue)/actualValue) * 100\n",
    "\n",
    "print(\"Absolute Relative Error: \", np.round(Ea, 2), \"%\")\n",
    "\n"
   ]
  }
 ],
 "metadata": {
  "kernelspec": {
   "display_name": "Python 3",
   "language": "python",
   "name": "python3"
  },
  "language_info": {
   "codemirror_mode": {
    "name": "ipython",
    "version": 3
   },
   "file_extension": ".py",
   "mimetype": "text/x-python",
   "name": "python",
   "nbconvert_exporter": "python",
   "pygments_lexer": "ipython3",
   "version": "3.10.6 (tags/v3.10.6:9c7b4bd, Aug  1 2022, 21:53:49) [MSC v.1932 64 bit (AMD64)]"
  },
  "orig_nbformat": 4,
  "vscode": {
   "interpreter": {
    "hash": "b148fc9bfa8b60132af830e32e1690e4e023b803e92912df15b823b90141dda6"
   }
  },
  "colab": {
   "provenance": []
  }
 },
 "nbformat": 4,
 "nbformat_minor": 0
}
